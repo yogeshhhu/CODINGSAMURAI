{
 "cells": [
  {
   "cell_type": "markdown",
   "id": "ddeadb1f",
   "metadata": {},
   "source": [
    "# Project 1: Simple Data Analytics – Sales Data Analysis\n",
    "\n",
    "## 📌 Objective:\n",
    "Analyze a fictional sales dataset using basic statistics and visualizations to understand product-wise and region-wise performance."
   ]
  },
  {
   "cell_type": "code",
   "execution_count": null,
   "id": "c476ffb1",
   "metadata": {},
   "outputs": [],
   "source": [
    "import pandas as pd\n",
    "import matplotlib.pyplot as plt\n",
    "import seaborn as sns\n",
    "\n",
    "sns.set(style=\"whitegrid\")"
   ]
  },
  {
   "cell_type": "markdown",
   "id": "89de1a4a",
   "metadata": {},
   "source": [
    "## 🔄 Step 2: Load Dataset"
   ]
  },
  {
   "cell_type": "code",
   "execution_count": null,
   "id": "e094e253",
   "metadata": {},
   "outputs": [],
   "source": [
    "# Load the sales dataset\n",
    "sales_df = pd.read_csv(\"sales_data.csv\")\n",
    "sales_df.head()"
   ]
  },
  {
   "cell_type": "markdown",
   "id": "d40cf2a6",
   "metadata": {},
   "source": [
    "## 📊 Step 3: Descriptive Statistics"
   ]
  },
  {
   "cell_type": "code",
   "execution_count": null,
   "id": "aa28a8b9",
   "metadata": {},
   "outputs": [],
   "source": [
    "# Summary statistics\n",
    "sales_df.describe()"
   ]
  },
  {
   "cell_type": "markdown",
   "id": "9b104cb6",
   "metadata": {},
   "source": [
    "## 📈 Step 4: Total Sales by Product"
   ]
  },
  {
   "cell_type": "code",
   "execution_count": null,
   "id": "21cbca8a",
   "metadata": {},
   "outputs": [],
   "source": [
    "product_sales = sales_df.groupby('Product')['Total Sales'].sum().reset_index()\n",
    "\n",
    "plt.figure(figsize=(8, 5))\n",
    "sns.barplot(data=product_sales, x='Product', y='Total Sales', palette='viridis')\n",
    "plt.title('Total Sales by Product')\n",
    "plt.tight_layout()\n",
    "plt.savefig(\"bar_chart_product_sales.png\")\n",
    "plt.show()"
   ]
  },
  {
   "cell_type": "markdown",
   "id": "de4b29f1",
   "metadata": {},
   "source": [
    "## 🧭 Step 5: Sales Distribution by Region"
   ]
  },
  {
   "cell_type": "code",
   "execution_count": null,
   "id": "84d411be",
   "metadata": {},
   "outputs": [],
   "source": [
    "region_sales = sales_df.groupby('Region')['Total Sales'].sum().reset_index()\n",
    "\n",
    "plt.figure(figsize=(6, 6))\n",
    "plt.pie(region_sales['Total Sales'], labels=region_sales['Region'], autopct='%1.1f%%', colors=sns.color_palette('pastel'))\n",
    "plt.title('Sales Distribution by Region')\n",
    "plt.tight_layout()\n",
    "plt.savefig(\"pie_chart_region_sales.png\")\n",
    "plt.show()"
   ]
  },
  {
   "cell_type": "markdown",
   "id": "52408fb8",
   "metadata": {},
   "source": [
    "## ✅ Insights:\n",
    "- Product X (highest revenue)\n",
    "- Region Y (top sales contributor)\n",
    "- Overall performance trend from charts"
   ]
  }
 ],
 "metadata": {},
 "nbformat": 4,
 "nbformat_minor": 5
}
